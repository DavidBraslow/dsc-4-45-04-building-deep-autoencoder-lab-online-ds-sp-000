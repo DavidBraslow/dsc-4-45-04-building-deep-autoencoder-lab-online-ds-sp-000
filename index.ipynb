{
 "cells": [
  {
   "cell_type": "markdown",
   "metadata": {},
   "source": [
    "# Building a Deep Autoencoder - Lab\n",
    "\n",
    "## Introduction\n",
    "\n",
    "Deep auto encoders are characterized by having more than one layers in their encoder and decoder components. In this lab, we will mainly repeat the last experiment, but using a deep architecture instead of a simple feed forward styles networks for encoding and decoding the last lab. \n",
    "\n",
    "## Objectives\n",
    "\n",
    "You will be able to:\n",
    "- Build a deep autoencoder in Keras\n",
    "- Create the encoder and decoder functions as multiple fully connected layers \n",
    "- Train an autoencoder with selected loss function and optimizer"
   ]
  },
  {
   "cell_type": "markdown",
   "metadata": {},
   "source": [
    "## Deep Autoencoders\n",
    "\n",
    "The extension of the simple Autoencoder is the __Deep Autoencoder__. The first layer of the Deep Autoencoder is used for first-order features in the raw input. The second layer is used for second-order features corresponding to patterns in the appearance of first-order features. This is also knows as FoF in deep learning i.e. Features of Features. Deeper layers of the Deep Autoencoder tend to learn even higher-order features.\n",
    "\n",
    "A deep autoencoder is composed of two, symmetrical deep-belief networks\n",
    "\n",
    "> __DBN (Deep belief Network)__ is a class of deep neural network which comprises of multiple layer of graphical model having both directed and undirected edges. It is composed of multiple layers of hidden units, where each layers are connected with each others but units are not. [Visist here](https://codeburst.io/deep-learning-deep-belief-network-fundamentals-d0dcfd80d7d4) for details. \n",
    "\n",
    "\n",
    "\n",
    "First four or five shallow layers representing the encoding half of the net.\n",
    "The second set of four or five layers that make up the decoding half."
   ]
  },
  {
   "cell_type": "markdown",
   "metadata": {},
   "source": [
    "<img src=\"deep.png\" width=600>"
   ]
  },
  {
   "cell_type": "markdown",
   "metadata": {},
   "source": [
    "In our previous lab, we used single fully-connected layers for both the encoding and decoding models while building a simple AE. With deep AE, we can stack multiple fully-connected layers to make each of the encoder and decoder functions __deep__, turning our simple model into a deep architecture.\n",
    "\n",
    "In this lab, we'll do just that: we'll repeat the initial problem setup, importing the same dataset and performing the same preprocessing. From there, we'll once again build an autoencoder, but this time, we will stack multiple layers in order to improve our performance."
   ]
  },
  {
   "cell_type": "markdown",
   "metadata": {},
   "source": [
    "## Import the code for reading + preprocessing  fashion-MNIST dataset "
   ]
  },
  {
   "cell_type": "code",
   "execution_count": 1,
   "metadata": {},
   "outputs": [
    {
     "name": "stderr",
     "output_type": "stream",
     "text": [
      "Using TensorFlow backend.\n"
     ]
    },
    {
     "name": "stdout",
     "output_type": "stream",
     "text": [
      "(60000, 28, 28) (60000,) (10000, 28, 28) (10000,)\n",
      "(60000, 784) (10000, 784)\n"
     ]
    }
   ],
   "source": [
    "# Load the fashion dataset\n",
    "# Import necessary libraries\n",
    "import pandas as pd\n",
    "import numpy as np\n",
    "np.random.seed(0)\n",
    "import matplotlib.pyplot as plt\n",
    "%matplotlib inline\n",
    "import keras\n",
    "from keras.preprocessing.sequence import pad_sequences\n",
    "from keras.layers import InputLayer, Dense, LSTM, Embedding\n",
    "from keras.layers import Dropout, Activation, Bidirectional, GlobalMaxPool1D\n",
    "from keras.models import Model, Sequential\n",
    "from keras import initializers, regularizers, constraints, optimizers, layers\n",
    "from keras.preprocessing import text, sequence\n",
    "from keras.callbacks import ModelCheckpoint\n",
    "from keras.callbacks import EarlyStopping\n",
    "import tensorflow as tf\n",
    "\n",
    "(x_train, y_train), (x_test, y_test) = tf.keras.datasets.fashion_mnist.load_data()\n",
    "print(x_train.shape, y_train.shape, x_test.shape, y_test.shape)\n",
    "x_train_norm = x_train*1./255\n",
    "x_test_norm = x_test*1./255\n",
    "# Your code here\n",
    "\n",
    "\n",
    "n_train = x_train.shape[0]\n",
    "n_test = x_test.shape[0]\n",
    "\n",
    "x_train_norm_resh = x_train_norm.reshape((n_train, -1))\n",
    "x_test_norm_resh = x_test_norm.reshape((n_test, -1))\n",
    "# Your code here\n",
    "print(x_train_norm_resh.shape, x_test_norm_resh.shape)\n",
    "\n",
    "#Normalize the train and test sets to a range of 0 to 1\n",
    "\n",
    "#Reshape the training and test data to create 1D vectors"
   ]
  },
  {
   "cell_type": "markdown",
   "metadata": {},
   "source": [
    "## Build the Deep Autoencoder\n",
    "\n",
    "So this time, we are building a deep autoencoder. The code for this wo't be much different to what we saw earlier. Here we are adding a few extra encoding and decoding layers as listed below:\n",
    "\n",
    "- Use 3 fully-connected layers for the encoding model that inputs original 784 dimensions and decrease the dimensionality from 128 to 64 to 32. \n",
    "\n",
    "- Add 3 fully-connected decoder layers that reconstruct the image back to 784 dimensions.\n",
    "- Except for the last layer, use ReLU activation functions in all other layers\n",
    "- Show the model summary \n",
    "\n"
   ]
  },
  {
   "cell_type": "code",
   "execution_count": 3,
   "metadata": {},
   "outputs": [
    {
     "name": "stdout",
     "output_type": "stream",
     "text": [
      "_________________________________________________________________\n",
      "Layer (type)                 Output Shape              Param #   \n",
      "=================================================================\n",
      "dense_3 (Dense)              (None, 128)               100480    \n",
      "_________________________________________________________________\n",
      "dense_4 (Dense)              (None, 64)                8256      \n",
      "_________________________________________________________________\n",
      "dense_5 (Dense)              (None, 32)                2080      \n",
      "_________________________________________________________________\n",
      "dense_6 (Dense)              (None, 64)                2112      \n",
      "_________________________________________________________________\n",
      "dense_7 (Dense)              (None, 128)               8320      \n",
      "_________________________________________________________________\n",
      "dense_8 (Dense)              (None, 784)               101136    \n",
      "=================================================================\n",
      "Total params: 222,384\n",
      "Trainable params: 222,384\n",
      "Non-trainable params: 0\n",
      "_________________________________________________________________\n"
     ]
    }
   ],
   "source": [
    "# Build a deep AE\n",
    "autoencoder = Sequential()\n",
    "autoencoder.add(Dense(128, activation = 'relu', input_shape = (784,)))\n",
    "autoencoder.add(Dense(64, activation = 'relu'))\n",
    "autoencoder.add(Dense(32, activation = 'relu'))\n",
    "autoencoder.add(Dense(64, activation = 'relu'))\n",
    "autoencoder.add(Dense(128, activation = 'relu'))\n",
    "autoencoder.add(Dense(784, activation = 'sigmoid'))\n",
    "autoencoder.summary()\n",
    "\n",
    "# Encoder Layers\n",
    "\n",
    "# Decoder Layers\n",
    "\n",
    "#Check a summary of the autoencoder\n"
   ]
  },
  {
   "cell_type": "markdown",
   "metadata": {},
   "source": [
    "## Extract the Encoder \n",
    "\n",
    "As seen previously, we will now extract the encoder model from the above. Remember the encoder model now consists of the first 3 layers in the autoencoder."
   ]
  },
  {
   "cell_type": "code",
   "execution_count": 4,
   "metadata": {},
   "outputs": [
    {
     "name": "stdout",
     "output_type": "stream",
     "text": [
      "_________________________________________________________________\n",
      "Layer (type)                 Output Shape              Param #   \n",
      "=================================================================\n",
      "dense_3 (Dense)              (None, 128)               100480    \n",
      "_________________________________________________________________\n",
      "dense_4 (Dense)              (None, 64)                8256      \n",
      "_________________________________________________________________\n",
      "dense_5 (Dense)              (None, 32)                2080      \n",
      "=================================================================\n",
      "Total params: 110,816\n",
      "Trainable params: 110,816\n",
      "Non-trainable params: 0\n",
      "_________________________________________________________________\n"
     ]
    }
   ],
   "source": [
    "# Extract the Encoder model and output a summary like this:\n",
    "encoder = Sequential()\n",
    "encoder.add(autoencoder.layers[0])\n",
    "encoder.add(autoencoder.layers[1])\n",
    "encoder.add(autoencoder.layers[2])\n",
    "encoder.summary()"
   ]
  },
  {
   "cell_type": "markdown",
   "metadata": {},
   "source": [
    "## Train the Model\n",
    "\n",
    "We can now compile the model with Adam optimizer and binary cross entropy loss. Use 20 epochs and a batch size of 256. "
   ]
  },
  {
   "cell_type": "code",
   "execution_count": 5,
   "metadata": {},
   "outputs": [
    {
     "name": "stdout",
     "output_type": "stream",
     "text": [
      "WARNING:tensorflow:From C:\\Users\\david_000\\Anaconda3\\envs\\learn-env\\lib\\site-packages\\tensorflow\\python\\ops\\math_ops.py:3066: to_int32 (from tensorflow.python.ops.math_ops) is deprecated and will be removed in a future version.\n",
      "Instructions for updating:\n",
      "Use tf.cast instead.\n",
      "Train on 60000 samples, validate on 10000 samples\n",
      "Epoch 1/20\n",
      "60000/60000 [==============================] - 8s 140us/step - loss: 0.3802 - acc: 0.4881 - val_loss: 0.3193 - val_acc: 0.5004\n",
      "Epoch 2/20\n",
      "60000/60000 [==============================] - 6s 98us/step - loss: 0.3109 - acc: 0.5041 - val_loss: 0.3083 - val_acc: 0.5023\n",
      "Epoch 3/20\n",
      "60000/60000 [==============================] - 6s 101us/step - loss: 0.3028 - acc: 0.5055 - val_loss: 0.3017 - val_acc: 0.5037\n",
      "Epoch 4/20\n",
      "60000/60000 [==============================] - 6s 99us/step - loss: 0.2976 - acc: 0.5062 - val_loss: 0.2982 - val_acc: 0.5046\n",
      "Epoch 5/20\n",
      "60000/60000 [==============================] - 6s 101us/step - loss: 0.2945 - acc: 0.5065 - val_loss: 0.2953 - val_acc: 0.5047\n",
      "Epoch 6/20\n",
      "60000/60000 [==============================] - 6s 107us/step - loss: 0.2923 - acc: 0.5068 - val_loss: 0.2932 - val_acc: 0.5050\n",
      "Epoch 7/20\n",
      "60000/60000 [==============================] - 6s 95us/step - loss: 0.2902 - acc: 0.5071 - val_loss: 0.2915 - val_acc: 0.5051\n",
      "Epoch 8/20\n",
      "60000/60000 [==============================] - 5s 90us/step - loss: 0.2886 - acc: 0.5073 - val_loss: 0.2900 - val_acc: 0.5054\n",
      "Epoch 9/20\n",
      "60000/60000 [==============================] - 5s 90us/step - loss: 0.2872 - acc: 0.5075 - val_loss: 0.2890 - val_acc: 0.5055\n",
      "Epoch 10/20\n",
      "60000/60000 [==============================] - 6s 94us/step - loss: 0.2861 - acc: 0.5076 - val_loss: 0.2879 - val_acc: 0.5056\n",
      "Epoch 11/20\n",
      "60000/60000 [==============================] - 6s 100us/step - loss: 0.2852 - acc: 0.5077 - val_loss: 0.2870 - val_acc: 0.5055\n",
      "Epoch 12/20\n",
      "60000/60000 [==============================] - 6s 97us/step - loss: 0.2844 - acc: 0.5078 - val_loss: 0.2863 - val_acc: 0.5054\n",
      "Epoch 13/20\n",
      "60000/60000 [==============================] - 6s 98us/step - loss: 0.2835 - acc: 0.5079 - val_loss: 0.2855 - val_acc: 0.5058\n",
      "Epoch 14/20\n",
      "60000/60000 [==============================] - 6s 100us/step - loss: 0.2829 - acc: 0.5079 - val_loss: 0.2848 - val_acc: 0.5057\n",
      "Epoch 15/20\n",
      "60000/60000 [==============================] - 6s 99us/step - loss: 0.2822 - acc: 0.5080 - val_loss: 0.2847 - val_acc: 0.5056\n",
      "Epoch 16/20\n",
      "60000/60000 [==============================] - 12s 197us/step - loss: 0.2816 - acc: 0.5081 - val_loss: 0.2836 - val_acc: 0.5059\n",
      "Epoch 17/20\n",
      "60000/60000 [==============================] - 7s 116us/step - loss: 0.2811 - acc: 0.5081 - val_loss: 0.2834 - val_acc: 0.5057\n",
      "Epoch 18/20\n",
      "60000/60000 [==============================] - 6s 105us/step - loss: 0.2805 - acc: 0.5082 - val_loss: 0.2827 - val_acc: 0.5061\n",
      "Epoch 19/20\n",
      "60000/60000 [==============================] - 6s 106us/step - loss: 0.2802 - acc: 0.5082 - val_loss: 0.2825 - val_acc: 0.5061\n",
      "Epoch 20/20\n",
      "60000/60000 [==============================] - 6s 105us/step - loss: 0.2798 - acc: 0.5082 - val_loss: 0.2821 - val_acc: 0.5058\n"
     ]
    },
    {
     "data": {
      "text/plain": [
       "<keras.callbacks.History at 0x2405333d390>"
      ]
     },
     "execution_count": 5,
     "metadata": {},
     "output_type": "execute_result"
    }
   ],
   "source": [
    "# Compile and train and the model \n",
    "autoencoder.compile(loss='binary_crossentropy', optimizer='adam', metrics=['accuracy'])\n",
    "autoencoder.fit(x_train_norm_resh, x_train_norm_resh, epochs=20, batch_size=256, shuffle = True, validation_data=(x_test_norm_resh, x_test_norm_resh))\n",
    "# Your code here"
   ]
  },
  {
   "cell_type": "code",
   "execution_count": null,
   "metadata": {},
   "outputs": [],
   "source": [
    "encoder = Sequential()\n",
    "encoder.add(autoencoder.layers[0])\n",
    "encoder.add(autoencoder.layers[1])\n",
    "encoder.add(autoencoder.layers[2])\n",
    "encoder.summary()"
   ]
  },
  {
   "cell_type": "markdown",
   "metadata": {},
   "source": [
    "## View the Code and Reconstruction\n",
    "\n",
    "Bring in the code from previous experiment to view the reconstruction and encoding performed by our deep AE for 10 random images. "
   ]
  },
  {
   "cell_type": "code",
   "execution_count": 6,
   "metadata": {},
   "outputs": [
    {
     "name": "stdout",
     "output_type": "stream",
     "text": [
      "(3, 10)\n"
     ]
    },
    {
     "data": {
      "image/png": "[encoded data removed]",
      "text/plain": [
       "<Figure size 1008x576 with 30 Axes>"
      ]
     },
     "metadata": {
      "needs_background": "light"
     },
     "output_type": "display_data"
    }
   ],
   "source": [
    "#Plot the original images, encoded representations and output\n",
    "x_test_enc = encoder.predict(x_test_norm_resh)\n",
    "x_test_rec = autoencoder.predict(x_test_norm_resh)\n",
    "\n",
    "fig, axes = plt.subplots(3, 10, figsize=(14,8))\n",
    "print(axes.shape)\n",
    "for i in range(0, 10):\n",
    "    axes[0,i].imshow(x_test_norm_resh[i].reshape((28,28)) )\n",
    "    axes[1,i].imshow(x_test_enc[i].reshape((8,4)) )\n",
    "    axes[2,i].imshow(x_test_rec[i].reshape((28,28)) )"
   ]
  },
  {
   "cell_type": "markdown",
   "metadata": {},
   "source": [
    "---"
   ]
  },
  {
   "cell_type": "markdown",
   "metadata": {},
   "source": [
    "Do you notice any improvement over the previous model ? Let's admit it, there is not a huge change , due to the fact that we did not train the model to the point of convergence (for saving some time). Also, we did not use any cross validation techniques. We can improve these models by performing following tasks:\n"
   ]
  },
  {
   "cell_type": "markdown",
   "metadata": {},
   "source": [
    "## Level Up - Optional \n",
    "\n",
    "- Train both (simple and deep) AEs to 100 epochs and compare the results\n",
    "- Apply k-fold cross validation with deep AE (highly recommended for avoiding overfitting in deep networks) and check for any improvements.\n",
    "- Repeat the simple and deep AE labs with MNIST dataset (available in Keras).\n",
    "- Try this experiment with a high resolution (very high dimensionality) dataset. Caution: The training time may reach upto hours for a large dataset (or even days) - Thats where GPU/cloud computing comes into play. "
   ]
  },
  {
   "cell_type": "markdown",
   "metadata": {},
   "source": [
    "## Summary \n",
    "\n",
    "In this lab, we created a deep Autoencoder following the similar approach and dataset from our previous lab. We developed 3 layer encoder and decoder functions in keras and trained the network for 20 epochs. Next, we shall look into an AE architecture which is highly suitable for Image data - The Convolutional Auto-Encoder. "
   ]
  }
 ],
 "metadata": {
  "kernelspec": {
   "display_name": "Python 3",
   "language": "python",
   "name": "python3"
  },
  "language_info": {
   "codemirror_mode": {
    "name": "ipython",
    "version": 3
   },
   "file_extension": ".py",
   "mimetype": "text/x-python",
   "name": "python",
   "nbconvert_exporter": "python",
   "pygments_lexer": "ipython3",
   "version": "3.7.3"
  }
 },
 "nbformat": 4,
 "nbformat_minor": 2
}
